{
 "cells": [
  {
   "cell_type": "code",
   "execution_count": 1,
   "metadata": {
    "collapsed": true
   },
   "outputs": [],
   "source": [
    "import csv\n",
    "from gensim import corpora, models, similarities\n",
    "from collections import defaultdict\n",
    "from six import iteritems\n",
    "import re"
   ]
  },
  {
   "cell_type": "code",
   "execution_count": 2,
   "metadata": {
    "collapsed": true
   },
   "outputs": [],
   "source": [
    "stoplist = []\n",
    "documents = []\n",
    "\n",
    "with open(\"stopwords-en.csv\", 'r') as csvfile:\n",
    "    csvreader = csv.reader(csvfile)\n",
    "    for row in csvreader:\n",
    "        stoplist.append(row[0])\n",
    "\n",
    "with open(\"ap.csv\", 'r') as csvfile:\n",
    "    csvreader = csv.reader(csvfile)\n",
    "    for row in csvreader:\n",
    "        documents.append(row[1])\n",
    "\n",
    "#Eliminate numbers so they don't gunk up the analysis-- but preserve them as a token so they are not invisibilized.\n",
    "documents =\t[re.sub('\\b[0-9][0-9.,-]*\\b', 'NUMBER-TOKEN', line) for line in documents]"
   ]
  },
  {
   "cell_type": "code",
   "execution_count": 3,
   "metadata": {
    "collapsed": true
   },
   "outputs": [],
   "source": [
    "#Make the dictionary that Gensim will use\n",
    "dictionary = corpora.Dictionary(line.lower().split() for line in documents)\n",
    "stop_ids = [dictionary.token2id[stopword] for stopword in stoplist if stopword in dictionary.token2id]\n",
    "once_ids = [tokenid for tokenid, docfreq in iteritems(dictionary.dfs) if docfreq == 1]\n",
    "dictionary.filter_tokens(stop_ids + once_ids)\n",
    "dictionary.compactify()\n",
    "\n",
    "#Convert each document to a bag of words\n",
    "class MyCorpus(object):\n",
    "    def __iter__(self):\n",
    "        for line in documents:\n",
    "            yield dictionary.doc2bow(line.lower().split(' '))\n",
    "\n",
    "corpus = MyCorpus()\n",
    "\n",
    "tfidf = models.TfidfModel(corpus)\n",
    "tfidf_corpus = tfidf[corpus]\n",
    "\n",
    "model = models.LsiModel(tfidf_corpus, id2word=dictionary, num_topics=300)\n"
   ]
  },
  {
   "cell_type": "code",
   "execution_count": 10,
   "metadata": {},
   "outputs": [
    {
     "data": {
      "text/plain": [
       "[(3,\n",
       "  '-0.290*\"police\" + 0.284*\"bush\" + 0.244*\"soviet\" + 0.199*\"dukakis\" + 0.132*\"gorbachev\" + -0.091*\"fire\" + 0.091*\"reagan\" + 0.088*\"trade\" + 0.087*\"budget\" + -0.085*\"killed\"'),\n",
       " (17,\n",
       "  '-0.253*\"israeli\" + -0.246*\"israel\" + 0.206*\"german\" + -0.155*\"palestinian\" + -0.145*\"jewish\" + -0.137*\"arab\" + -0.136*\"plo\" + -0.134*\"palestinians\" + -0.124*\"occupied\" + -0.122*\"inches\"'),\n",
       " (14,\n",
       "  '0.184*\"dukakis\" + -0.181*\"police\" + 0.162*\"company\" + -0.160*\"trade\" + 0.139*\"jackson\" + -0.134*\"budget\" + -0.130*\"bush\" + -0.127*\"bill\" + -0.111*\"drug\" + 0.107*\"south\"'),\n",
       " (0,\n",
       "  '0.113*\"soviet\" + 0.107*\"percent\" + 0.105*\"bush\" + 0.089*\"police\" + 0.088*\"u.s.\" + 0.085*\"will\" + 0.080*\"_\" + 0.080*\"million\" + 0.078*\"new\" + 0.077*\"government\"'),\n",
       " (4,\n",
       "  '0.409*\"soviet\" + -0.187*\"dukakis\" + 0.182*\"gorbachev\" + -0.154*\"percent\" + 0.134*\"stock\" + 0.132*\"index\" + -0.103*\"bush\" + -0.098*\"dollar\" + 0.091*\"communist\" + -0.083*\"billion\"'),\n",
       " (18,\n",
       "  '0.228*\"police\" + 0.182*\"bush\" + 0.142*\"oil\" + -0.136*\"percent\" + -0.127*\"air\" + 0.112*\"iraq\" + -0.098*\"military\" + -0.095*\"plane\" + 0.092*\"students\" + 0.092*\"billion\"'),\n",
       " (16,\n",
       "  '-0.281*\"party\" + 0.262*\"south\" + 0.194*\"soviet\" + 0.152*\"african\" + -0.149*\"communist\" + 0.133*\"africa\" + 0.132*\"dukakis\" + 0.117*\"trade\" + -0.105*\"opposition\" + 0.104*\"mandela\"'),\n",
       " (11,\n",
       "  '0.299*\"south\" + -0.191*\"percent\" + -0.175*\"police\" + 0.160*\"african\" + 0.137*\"africa\" + -0.121*\"iraq\" + -0.120*\"soviet\" + -0.114*\"iraqi\" + -0.111*\"oil\" + 0.105*\"inches\"'),\n",
       " (12,\n",
       "  '0.375*\"german\" + 0.324*\"east\" + 0.294*\"west\" + 0.207*\"germany\" + -0.155*\"soviet\" + 0.126*\"berlin\" + 0.125*\"germany\\'s\" + -0.094*\"military\" + -0.091*\"gorbachev\" + 0.080*\"kohl\"'),\n",
       " (15,\n",
       "  '0.168*\"court\" + -0.162*\"police\" + 0.147*\"percent\" + 0.140*\"inches\" + -0.131*\"students\" + 0.121*\"german\" + 0.113*\"northern\" + 0.108*\"rain\" + 0.105*\"south\" + 0.101*\"judge\"')]"
      ]
     },
     "execution_count": 10,
     "metadata": {},
     "output_type": "execute_result"
    }
   ],
   "source": [
    "import random\n",
    "topics = model.print_topics()\n",
    "random.shuffle(topics)\n",
    "topics[:10]"
   ]
  },
  {
   "cell_type": "code",
   "execution_count": null,
   "metadata": {
    "collapsed": true
   },
   "outputs": [],
   "source": []
  }
 ],
 "metadata": {
  "kernelspec": {
   "display_name": "Python 3",
   "language": "python",
   "name": "python3"
  },
  "language_info": {
   "codemirror_mode": {
    "name": "ipython",
    "version": 3
   },
   "file_extension": ".py",
   "mimetype": "text/x-python",
   "name": "python",
   "nbconvert_exporter": "python",
   "pygments_lexer": "ipython3",
   "version": "3.6.4"
  }
 },
 "nbformat": 4,
 "nbformat_minor": 2
}

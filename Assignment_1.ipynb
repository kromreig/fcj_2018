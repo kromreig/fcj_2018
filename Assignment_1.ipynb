{
 "cells": [
  {
   "cell_type": "code",
   "execution_count": 1,
   "metadata": {
    "collapsed": true
   },
   "outputs": [],
   "source": [
    "import csv\n",
    "from gensim import corpora, models, similarities\n",
    "from collections import defaultdict\n",
    "from six import iteritems\n",
    "import re"
   ]
  },
  {
   "cell_type": "code",
   "execution_count": 5,
   "metadata": {},
   "outputs": [
    {
     "ename": "NameError",
     "evalue": "name 'documents' is not defined",
     "output_type": "error",
     "traceback": [
      "\u001b[0;31m---------------------------------------------------------------------------\u001b[0m",
      "\u001b[0;31mNameError\u001b[0m                                 Traceback (most recent call last)",
      "\u001b[0;32m<ipython-input-5-bb809fe51178>\u001b[0m in \u001b[0;36m<module>\u001b[0;34m()\u001b[0m\n\u001b[1;32m     14\u001b[0m \u001b[0;34m\u001b[0m\u001b[0m\n\u001b[1;32m     15\u001b[0m \u001b[0;31m#Eliminate numbers so they don't gunk up the analysis-- but preserve them as a token so they are not invisibilized.\u001b[0m\u001b[0;34m\u001b[0m\u001b[0;34m\u001b[0m\u001b[0m\n\u001b[0;32m---> 16\u001b[0;31m \u001b[0mdocuments\u001b[0m \u001b[0;34m=\u001b[0m     \u001b[0;34m[\u001b[0m\u001b[0mre\u001b[0m\u001b[0;34m.\u001b[0m\u001b[0msub\u001b[0m\u001b[0;34m(\u001b[0m\u001b[0;34m'\\b[0-9][0-9.,-]*\\b'\u001b[0m\u001b[0;34m,\u001b[0m \u001b[0;34m'NUMBER-TOKEN'\u001b[0m\u001b[0;34m,\u001b[0m \u001b[0mline\u001b[0m\u001b[0;34m)\u001b[0m \u001b[0;32mfor\u001b[0m \u001b[0mline\u001b[0m \u001b[0;32min\u001b[0m \u001b[0mdocuments\u001b[0m\u001b[0;34m]\u001b[0m\u001b[0;34m\u001b[0m\u001b[0m\n\u001b[0m",
      "\u001b[0;31mNameError\u001b[0m: name 'documents' is not defined"
     ]
    }
   ],
   "source": [
    "stoplist = []\n",
    "documents = []\n",
    "\n",
    "with open(\"stopwords-en.csv\", 'r') as csvfile:\n",
    "    csvreader = csv.reader(csvfile)\n",
    "    for row in csvreader:\n",
    "        stoplist.append(row[0])\n",
    "\n",
    "with open(filename, 'r') as csvfile:\n",
    "    csvreader = csv.reader(csvfile)\n",
    "    for row in csvreader:\n",
    "        documents.append(row[1])\n",
    "\n",
    "#Eliminate numbers so they don't gunk up the analysis-- but preserve them as a token so they are not invisibilized.\n",
    "documents =\t[re.sub('\\b[0-9][0-9.,-]*\\b', 'NUMBER-TOKEN', line) for line in documents]"
   ]
  },
  {
   "cell_type": "code",
   "execution_count": 3,
   "metadata": {},
   "outputs": [
    {
     "ename": "NameError",
     "evalue": "name 'documents' is not defined",
     "output_type": "error",
     "traceback": [
      "\u001b[0;31m---------------------------------------------------------------------------\u001b[0m",
      "\u001b[0;31mNameError\u001b[0m                                 Traceback (most recent call last)",
      "\u001b[0;32m<ipython-input-3-766fd467fe66>\u001b[0m in \u001b[0;36m<module>\u001b[0;34m()\u001b[0m\n\u001b[1;32m      1\u001b[0m \u001b[0mread_data\u001b[0m\u001b[0;34m(\u001b[0m\u001b[0mfilename\u001b[0m\u001b[0;34m=\u001b[0m\u001b[0;34m\"ap.csv\"\u001b[0m\u001b[0;34m)\u001b[0m\u001b[0;34m\u001b[0m\u001b[0m\n\u001b[1;32m      2\u001b[0m \u001b[0;31m#Make the dictionary that Gensim will use\u001b[0m\u001b[0;34m\u001b[0m\u001b[0;34m\u001b[0m\u001b[0m\n\u001b[0;32m----> 3\u001b[0;31m \u001b[0mdictionary\u001b[0m \u001b[0;34m=\u001b[0m \u001b[0mcorpora\u001b[0m\u001b[0;34m.\u001b[0m\u001b[0mDictionary\u001b[0m\u001b[0;34m(\u001b[0m\u001b[0mline\u001b[0m\u001b[0;34m.\u001b[0m\u001b[0mlower\u001b[0m\u001b[0;34m(\u001b[0m\u001b[0;34m)\u001b[0m\u001b[0;34m.\u001b[0m\u001b[0msplit\u001b[0m\u001b[0;34m(\u001b[0m\u001b[0;34m)\u001b[0m \u001b[0;32mfor\u001b[0m \u001b[0mline\u001b[0m \u001b[0;32min\u001b[0m \u001b[0mdocuments\u001b[0m\u001b[0;34m)\u001b[0m\u001b[0;34m\u001b[0m\u001b[0m\n\u001b[0m\u001b[1;32m      4\u001b[0m \u001b[0mstop_ids\u001b[0m \u001b[0;34m=\u001b[0m \u001b[0;34m[\u001b[0m\u001b[0mdictionary\u001b[0m\u001b[0;34m.\u001b[0m\u001b[0mtoken2id\u001b[0m\u001b[0;34m[\u001b[0m\u001b[0mstopword\u001b[0m\u001b[0;34m]\u001b[0m \u001b[0;32mfor\u001b[0m \u001b[0mstopword\u001b[0m \u001b[0;32min\u001b[0m \u001b[0mstoplist\u001b[0m \u001b[0;32mif\u001b[0m \u001b[0mstopword\u001b[0m \u001b[0;32min\u001b[0m \u001b[0mdictionary\u001b[0m\u001b[0;34m.\u001b[0m\u001b[0mtoken2id\u001b[0m\u001b[0;34m]\u001b[0m\u001b[0;34m\u001b[0m\u001b[0m\n\u001b[1;32m      5\u001b[0m \u001b[0monce_ids\u001b[0m \u001b[0;34m=\u001b[0m \u001b[0;34m[\u001b[0m\u001b[0mtokenid\u001b[0m \u001b[0;32mfor\u001b[0m \u001b[0mtokenid\u001b[0m\u001b[0;34m,\u001b[0m \u001b[0mdocfreq\u001b[0m \u001b[0;32min\u001b[0m \u001b[0miteritems\u001b[0m\u001b[0;34m(\u001b[0m\u001b[0mdictionary\u001b[0m\u001b[0;34m.\u001b[0m\u001b[0mdfs\u001b[0m\u001b[0;34m)\u001b[0m \u001b[0;32mif\u001b[0m \u001b[0mdocfreq\u001b[0m \u001b[0;34m==\u001b[0m \u001b[0;36m1\u001b[0m\u001b[0;34m]\u001b[0m\u001b[0;34m\u001b[0m\u001b[0m\n",
      "\u001b[0;31mNameError\u001b[0m: name 'documents' is not defined"
     ]
    }
   ],
   "source": [
    "read_data(filename=\"ap.csv\")\n",
    "#Make the dictionary that Gensim will use\n",
    "dictionary = corpora.Dictionary(line.lower().split() for line in documents)\n",
    "stop_ids = [dictionary.token2id[stopword] for stopword in stoplist if stopword in dictionary.token2id]\n",
    "once_ids = [tokenid for tokenid, docfreq in iteritems(dictionary.dfs) if docfreq == 1]\n",
    "dictionary.filter_tokens(stop_ids + once_ids)\n",
    "dictionary.compactify()\n",
    "\n",
    "#Convert each document to a bag of words\n",
    "class MyCorpus(object):\n",
    "    def __iter__(self):\n",
    "        for line in documents:\n",
    "            yield dictionary.doc2bow(line.lower().split(' '))\n",
    "\n",
    "corpus = MyCorpus()\n",
    "\n",
    "tfidf = models.TfidfModel(corpus)\n",
    "tfidf_corpus = tfidf[corpus]\n",
    "\n",
    "model = models.LsiModel(tfidf_corpus, id2word=dictionary, num_topics=300)\n"
   ]
  },
  {
   "cell_type": "code",
   "execution_count": 10,
   "metadata": {},
   "outputs": [
    {
     "data": {
      "text/plain": [
       "[(3,\n",
       "  '-0.290*\"police\" + 0.284*\"bush\" + 0.244*\"soviet\" + 0.199*\"dukakis\" + 0.132*\"gorbachev\" + -0.091*\"fire\" + 0.091*\"reagan\" + 0.088*\"trade\" + 0.087*\"budget\" + -0.085*\"killed\"'),\n",
       " (17,\n",
       "  '-0.253*\"israeli\" + -0.246*\"israel\" + 0.206*\"german\" + -0.155*\"palestinian\" + -0.145*\"jewish\" + -0.137*\"arab\" + -0.136*\"plo\" + -0.134*\"palestinians\" + -0.124*\"occupied\" + -0.122*\"inches\"'),\n",
       " (14,\n",
       "  '0.184*\"dukakis\" + -0.181*\"police\" + 0.162*\"company\" + -0.160*\"trade\" + 0.139*\"jackson\" + -0.134*\"budget\" + -0.130*\"bush\" + -0.127*\"bill\" + -0.111*\"drug\" + 0.107*\"south\"'),\n",
       " (0,\n",
       "  '0.113*\"soviet\" + 0.107*\"percent\" + 0.105*\"bush\" + 0.089*\"police\" + 0.088*\"u.s.\" + 0.085*\"will\" + 0.080*\"_\" + 0.080*\"million\" + 0.078*\"new\" + 0.077*\"government\"'),\n",
       " (4,\n",
       "  '0.409*\"soviet\" + -0.187*\"dukakis\" + 0.182*\"gorbachev\" + -0.154*\"percent\" + 0.134*\"stock\" + 0.132*\"index\" + -0.103*\"bush\" + -0.098*\"dollar\" + 0.091*\"communist\" + -0.083*\"billion\"'),\n",
       " (18,\n",
       "  '0.228*\"police\" + 0.182*\"bush\" + 0.142*\"oil\" + -0.136*\"percent\" + -0.127*\"air\" + 0.112*\"iraq\" + -0.098*\"military\" + -0.095*\"plane\" + 0.092*\"students\" + 0.092*\"billion\"'),\n",
       " (16,\n",
       "  '-0.281*\"party\" + 0.262*\"south\" + 0.194*\"soviet\" + 0.152*\"african\" + -0.149*\"communist\" + 0.133*\"africa\" + 0.132*\"dukakis\" + 0.117*\"trade\" + -0.105*\"opposition\" + 0.104*\"mandela\"'),\n",
       " (11,\n",
       "  '0.299*\"south\" + -0.191*\"percent\" + -0.175*\"police\" + 0.160*\"african\" + 0.137*\"africa\" + -0.121*\"iraq\" + -0.120*\"soviet\" + -0.114*\"iraqi\" + -0.111*\"oil\" + 0.105*\"inches\"'),\n",
       " (12,\n",
       "  '0.375*\"german\" + 0.324*\"east\" + 0.294*\"west\" + 0.207*\"germany\" + -0.155*\"soviet\" + 0.126*\"berlin\" + 0.125*\"germany\\'s\" + -0.094*\"military\" + -0.091*\"gorbachev\" + 0.080*\"kohl\"'),\n",
       " (15,\n",
       "  '0.168*\"court\" + -0.162*\"police\" + 0.147*\"percent\" + 0.140*\"inches\" + -0.131*\"students\" + 0.121*\"german\" + 0.113*\"northern\" + 0.108*\"rain\" + 0.105*\"south\" + 0.101*\"judge\"')]"
      ]
     },
     "execution_count": 10,
     "metadata": {},
     "output_type": "execute_result"
    }
   ],
   "source": [
    "import random\n",
    "topics = model.print_topics()\n",
    "random.shuffle(topics)\n",
    "topics[:10]"
   ]
  },
  {
   "cell_type": "code",
   "execution_count": 11,
   "metadata": {},
   "outputs": [
    {
     "name": "stderr",
     "output_type": "stream",
     "text": [
      "/usr/local/lib/python3.6/site-packages/gensim/models/ldamodel.py:1023: RuntimeWarning: divide by zero encountered in log\n",
      "  diff = np.log(self.expElogbeta)\n"
     ]
    }
   ],
   "source": [
    "model = models.LdaModel(tfidf_corpus, id2word=dictionary, num_topics=300)\n"
   ]
  },
  {
   "cell_type": "code",
   "execution_count": 13,
   "metadata": {
    "collapsed": true
   },
   "outputs": [],
   "source": [
    "topics = model.print_topics()\n",
    "random.shuffle(topics)"
   ]
  },
  {
   "cell_type": "code",
   "execution_count": 14,
   "metadata": {},
   "outputs": [
    {
     "data": {
      "text/plain": [
       "[(268,\n",
       "  '0.014*\"survey\" + 0.014*\"filing\" + 0.012*\"average\" + 0.010*\"type\" + 0.007*\"massachusetts.\" + 0.006*\"families.\" + 0.006*\"counseling\" + 0.006*\"activated\" + 0.006*\"raided\" + 0.005*\"out.\"'),\n",
       " (155,\n",
       "  '0.022*\"rig\" + 0.016*\"presley\" + 0.015*\"10-minute\" + 0.011*\"elvis\" + 0.011*\"disc\" + 0.010*\"peoples\" + 0.008*\"presley\\'s\" + 0.008*\"sleeping\" + 0.008*\"moviegoers\" + 0.008*\"explosion,\"'),\n",
       " (39,\n",
       "  '0.021*\"mecham\" + 0.013*\"refugees\" + 0.012*\"asylum-seekers\" + 0.010*\"taipei.\" + 0.008*\"refugee\" + 0.007*\"milstead\" + 0.007*\"counseling\" + 0.006*\"11:30\" + 0.006*\"up,\" + 0.006*\"patients\\'\"'),\n",
       " (100,\n",
       "  '0.023*\"gun\" + 0.021*\"killers\" + 0.013*\"black-jewish\" + 0.012*\"law\" + 0.009*\"cheap\" + 0.008*\"maryland\\'s\" + 0.008*\"handguns\" + 0.007*\"trendy\" + 0.006*\"maryland\" + 0.006*\"alliance\"'),\n",
       " (150,\n",
       "  '0.013*\"illegally\" + 0.013*\"joints\" + 0.011*\"testimony\" + 0.008*\"bodies,\" + 0.007*\"quickly\" + 0.007*\"watergate\" + 0.006*\"evidence\" + 0.005*\"client\" + 0.005*\"haldeman\" + 0.005*\"cries\"'),\n",
       " (130,\n",
       "  '0.008*\"well-to-do\" + 0.006*\"deductions.\" + 0.005*\"outrage\" + 0.001*\"tax\" + 0.000*\"fishing\" + 0.000*\"incentives\" + 0.000*\"capital\" + 0.000*\"gains\" + 0.000*\"plo\" + 0.000*\"rafts,\"'),\n",
       " (172,\n",
       "  '0.012*\"republicans\" + 0.011*\"normal\" + 0.010*\"mrs.\" + 0.009*\"accident\" + 0.009*\"six\" + 0.009*\"operation\" + 0.009*\"primary,\" + 0.008*\"convicted\" + 0.008*\"death\" + 0.008*\"unit\"'),\n",
       " (4,\n",
       "  '0.010*\"against.\" + 0.010*\"notice\" + 0.009*\"provoked\" + 0.007*\"proper\" + 0.005*\"obstruct\" + 0.005*\"commissioner,\" + 0.004*\"detention\" + 0.004*\"convictions\" + 0.003*\"witness,\" + 0.003*\"permits\"'),\n",
       " (29,\n",
       "  '0.014*\"interstate\" + 0.013*\"inflation,\" + 0.007*\"vietnam\\'s\" + 0.006*\"portent\" + 0.006*\"first\" + 0.005*\"losses\" + 0.005*\"sources\" + 0.005*\"production.\" + 0.005*\"year.\" + 0.005*\"olivier\"'),\n",
       " (181,\n",
       "  '0.008*\"prisons\" + 0.007*\"united\" + 0.007*\"prison\" + 0.007*\"deported\" + 0.007*\"845\" + 0.005*\"intelligence\" + 0.005*\"remarried,\" + 0.005*\"states\" + 0.005*\"thriving.\" + 0.005*\"4,500\"')]"
      ]
     },
     "execution_count": 14,
     "metadata": {},
     "output_type": "execute_result"
    }
   ],
   "source": [
    "topics[:10]"
   ]
  },
  {
   "cell_type": "code",
   "execution_count": 8,
   "metadata": {},
   "outputs": [],
   "source": [
    "import pandas as pd\n",
    "from textblob import TextBlob\n",
    "from sklearn.feature_extraction.text import TfidfVectorizer"
   ]
  },
  {
   "cell_type": "code",
   "execution_count": 14,
   "metadata": {},
   "outputs": [],
   "source": [
    "df = pd.read_csv(\"state-of-the-union.csv\")\n",
    "df.columns = ['Year','Speech']"
   ]
  },
  {
   "cell_type": "code",
   "execution_count": 16,
   "metadata": {},
   "outputs": [],
   "source": [
    "df = df[(df.Year > 1899) & (df.Year < 2000)]\n",
    "df.reset_index(inplace=True)"
   ]
  },
  {
   "cell_type": "code",
   "execution_count": 18,
   "metadata": {},
   "outputs": [],
   "source": [
    "def tokenize(s):\n",
    "    blob = TextBlob(s.lower())\n",
    "    words = [token for token in blob.words if len(token)>2]\n",
    "    return words\n",
    "\n",
    "vectorizer = TfidfVectorizer(stop_words='english', tokenizer=tokenize)\n",
    "\n",
    "matrix = vectorizer.fit_transform(df.Speech)\n",
    "\n",
    "tfidf = pd.DataFrame(matrix.toarray(), columns=vectorizer.get_feature_names())\n",
    "\n",
    "decade_rows = []\n",
    "for i in range(1900, 2000, 10):\n",
    "    decade_df = tfidf[(df.Year > i) & (df.Year < i + 10)]\n",
    "    decade_sum = decade_df.sum()\n",
    "    df_length = len(decade_df)\n",
    "    dec_vec = decade_sum / df_length\n",
    "    decade_rows.append(dec_vec)\n",
    "    \n",
    "dec_tfidf = pd.DataFrame(decade_rows)\n",
    "\n",
    "def print_sorted_vector(v):\n",
    "    sorted_list = sorted(v.items(), key=lambda x: (x[1],x[0]), reverse=True) \n",
    "    sorted_list = sorted_list[:20]\n",
    "    print('\\n'.join([str(x) for x in sorted_list]))"
   ]
  },
  {
   "cell_type": "code",
   "execution_count": 21,
   "metadata": {},
   "outputs": [
    {
     "name": "stdout",
     "output_type": "stream",
     "text": [
      "Decade:  0\n",
      "('government', 0.1382503617705634)\n",
      "('law', 0.11214868849049951)\n",
      "('states', 0.10493024322618973)\n",
      "('great', 0.10001961369510598)\n",
      "('congress', 0.08643588577999645)\n",
      "('people', 0.0833412938587434)\n",
      "('public', 0.08220850400633266)\n",
      "('country', 0.081249008099739)\n",
      "('united', 0.08084147096231559)\n",
      "('men', 0.08030697027292416)\n",
      "('work', 0.0799965563504776)\n",
      "('man', 0.07711764895698298)\n",
      "('navy', 0.07470491372634279)\n",
      "('corporations', 0.07445474083645891)\n",
      "('business', 0.07330600904473168)\n",
      "('officers', 0.06978180096697983)\n",
      "('commerce', 0.068411113430638)\n",
      "('service', 0.06472747201514999)\n",
      "('department', 0.06469793655406657)\n",
      "('islands', 0.06428332771244921)\n",
      "Decade:  1\n",
      "('government', 0.11157823462813592)\n",
      "('shall', 0.08862784515269287)\n",
      "('great', 0.08181069885482202)\n",
      "('congress', 0.08150409836345998)\n",
      "('country', 0.07905992904838366)\n",
      "('states', 0.07730897844553355)\n",
      "('war', 0.07208245824536633)\n",
      "('men', 0.06681689735962684)\n",
      "('united', 0.06368153298067744)\n",
      "('people', 0.06231947653699088)\n",
      "('necessary', 0.06127896071099942)\n",
      "('present', 0.05968537811863829)\n",
      "('time', 0.056154221404859525)\n",
      "('american', 0.05602589630647348)\n",
      "('peace', 0.055070530464611786)\n",
      "('world', 0.05475010472395697)\n",
      "('law', 0.054226056372717435)\n",
      "('make', 0.052909367699009544)\n",
      "('department', 0.0521731511083274)\n",
      "('commerce', 0.049955756888263106)\n",
      "Decade:  2\n",
      "('government', 0.16968186129000895)\n",
      "('congress', 0.10750029001889623)\n",
      "('public', 0.1038325645927426)\n",
      "('country', 0.09122270755044085)\n",
      "('ought', 0.08193241480953398)\n",
      "('law', 0.0814250847296664)\n",
      "('national', 0.08019755049750481)\n",
      "('people', 0.07271421880672052)\n",
      "('federal', 0.06758138952810878)\n",
      "('agriculture', 0.06724153305810462)\n",
      "('present', 0.06561953114606515)\n",
      "('service', 0.06334643072732864)\n",
      "('war', 0.06203730177187769)\n",
      "('american', 0.06110406183939311)\n",
      "('necessary', 0.06025768248174298)\n",
      "('court', 0.058714217139666305)\n",
      "('great', 0.05865635827484239)\n",
      "('states', 0.0585015418085412)\n",
      "('commission', 0.055783864244790954)\n",
      "('world', 0.055681279198287435)\n",
      "Decade:  3\n",
      "('government', 0.1347246608198286)\n",
      "('people', 0.09383478595252909)\n",
      "('national', 0.08797909995595565)\n",
      "('congress', 0.0746902690581917)\n",
      "('world', 0.07248686081024118)\n",
      "('relief', 0.07005422198727766)\n",
      "('banks', 0.07003296221984373)\n",
      "('nation', 0.06818029355988421)\n",
      "('1933', 0.06706573826891624)\n",
      "('new', 0.06420007998973706)\n",
      "('recovery', 0.0625143325846942)\n",
      "('democracy', 0.06025034442537571)\n",
      "('public', 0.05545822577167404)\n",
      "('shall', 0.054253041862256886)\n",
      "('work', 0.05424439898073915)\n",
      "('year', 0.05070833138076751)\n",
      "('federal', 0.05065242105446957)\n",
      "('time', 0.05037150286555396)\n",
      "('nations', 0.05008626637026603)\n",
      "('states', 0.04914771150764062)\n",
      "Decade:  4\n",
      "('war', 0.1930611066204836)\n",
      "('world', 0.11312550275663583)\n",
      "('people', 0.08482649121183242)\n",
      "('production', 0.08170200369167131)\n",
      "('congress', 0.08029704975936688)\n",
      "('government', 0.07355232021247352)\n",
      "('national', 0.07267905001360166)\n",
      "('nation', 0.07061505582980923)\n",
      "('nations', 0.06848071155550262)\n",
      "('year', 0.06790207073931645)\n",
      "('united', 0.06772798076573124)\n",
      "('great', 0.06474675602746104)\n",
      "('peace', 0.06118276949398126)\n",
      "('shall', 0.06068977696992121)\n",
      "('program', 0.060115318628016806)\n",
      "('1947', 0.05683856632001982)\n",
      "('japanese', 0.05662725419197371)\n",
      "('1942', 0.056144076192879484)\n",
      "('economic', 0.054048753247162816)\n",
      "('american', 0.05344270545649108)\n",
      "Decade:  5\n",
      "('world', 0.15959742535262006)\n",
      "('free', 0.11902400560433582)\n",
      "('government', 0.0977985604209837)\n",
      "('people', 0.09684898562663873)\n",
      "('military', 0.09676400875932574)\n",
      "('nations', 0.0941211038726348)\n",
      "('congress', 0.09112233815074403)\n",
      "('defense', 0.0885216423041936)\n",
      "('economic', 0.08657989433456191)\n",
      "('security', 0.08413714588131811)\n",
      "('program', 0.0824896520490373)\n",
      "('shall', 0.0788871387218785)\n",
      "('year', 0.07852506314486092)\n",
      "('strength', 0.07842954523545301)\n",
      "('communist', 0.07564288042969505)\n",
      "('federal', 0.0755202563337601)\n",
      "('peace', 0.0738526068396748)\n",
      "('new', 0.07365708004227775)\n",
      "('freedom', 0.06534987682032492)\n",
      "('soviet', 0.06445823354042074)\n",
      "Decade:  6\n",
      "('new', 0.12008867434655224)\n",
      "('year', 0.10006999344556226)\n",
      "('vietnam', 0.09967619821278201)\n",
      "('congress', 0.09790572478293799)\n",
      "('world', 0.09772949973332916)\n",
      "('billion', 0.08887139934102857)\n",
      "('tonight', 0.08882503523205074)\n",
      "('nation', 0.08547306792618616)\n",
      "('years', 0.08148279977772004)\n",
      "('people', 0.07957593663438907)\n",
      "('american', 0.07061601710349548)\n",
      "('help', 0.07007736743802861)\n",
      "('nations', 0.06728200510112595)\n",
      "('million', 0.06295080618378682)\n",
      "('program', 0.06275952170097532)\n",
      "('programs', 0.06076193148168141)\n",
      "('peace', 0.05990635374136699)\n",
      "('americans', 0.05921977941652608)\n",
      "('america', 0.05858201028947067)\n",
      "('percent', 0.057668307137499784)\n",
      "Decade:  7\n",
      "('people', 0.13150006877693346)\n",
      "('world', 0.12937885586338643)\n",
      "('new', 0.1278454151806815)\n",
      "('government', 0.12487367737760484)\n",
      "('congress', 0.11744847396711787)\n",
      "('america', 0.1089673081223627)\n",
      "('year', 0.10401961413101138)\n",
      "('years', 0.10231392287224195)\n",
      "('american', 0.09373909082105275)\n",
      "('federal', 0.09007041785574726)\n",
      "('energy', 0.08260278279672867)\n",
      "('nation', 0.08074332081293484)\n",
      "('americans', 0.07760535293630519)\n",
      "('inflation', 0.07308179251580467)\n",
      "('peace', 0.06761840437380258)\n",
      "('programs', 0.06730031116329564)\n",
      "('president', 0.05969484566797507)\n",
      "('great', 0.05880708566707825)\n",
      "('states', 0.05879565052976608)\n",
      "('jobs', 0.05711719422016986)\n",
      "Decade:  8\n",
      "('america', 0.1470815589381424)\n",
      "(\"'re\", 0.12813520928952912)\n",
      "(\"'ve\", 0.12114130362482392)\n",
      "('tonight', 0.1117599542782405)\n",
      "('people', 0.10037920440238718)\n",
      "(\"n't\", 0.09334806922349699)\n",
      "('government', 0.09237906358580847)\n",
      "('let', 0.08861485146741557)\n",
      "('years', 0.08446179816294454)\n",
      "('new', 0.0806469932334009)\n",
      "('budget', 0.07563241153105973)\n",
      "('world', 0.0748077325098045)\n",
      "('freedom', 0.07317165133366088)\n",
      "('american', 0.07241072607008817)\n",
      "('congress', 0.07153576083575244)\n",
      "('year', 0.07082156730532246)\n",
      "('spending', 0.06920620106221193)\n",
      "('programs', 0.06539854521660794)\n",
      "('tax', 0.06507692336031286)\n",
      "('future', 0.06474803188078293)\n",
      "Decade:  9\n",
      "('people', 0.15690972357427216)\n",
      "(\"n't\", 0.13371351986085742)\n",
      "('america', 0.12558778833281903)\n",
      "('tonight', 0.11874967268796525)\n",
      "(\"'re\", 0.11534266086698539)\n",
      "('new', 0.11429567881572227)\n",
      "('children', 0.0996977177696014)\n",
      "('work', 0.09921619570013633)\n",
      "('know', 0.09687491673400399)\n",
      "('americans', 0.09667382544093786)\n",
      "('world', 0.09534677137163665)\n",
      "('american', 0.09072531709934023)\n",
      "('year', 0.08433361139003512)\n",
      "('years', 0.08297347224967394)\n",
      "('let', 0.08239498331062027)\n",
      "('jobs', 0.08013574016692956)\n",
      "('make', 0.0764358927502786)\n",
      "('congress', 0.07535215219289407)\n",
      "('parents', 0.0726229619532133)\n",
      "('care', 0.0724755714470739)\n"
     ]
    }
   ],
   "source": [
    "for decade in range(len(dec_tfidf)):\n",
    "    print(\"Decade: \",decade)\n",
    "    print_sorted_vector(dec_tfidf.iloc[decade])\n",
    "    \n"
   ]
  },
  {
   "cell_type": "code",
   "execution_count": null,
   "metadata": {
    "collapsed": true
   },
   "outputs": [],
   "source": []
  }
 ],
 "metadata": {
  "kernelspec": {
   "display_name": "Python 3",
   "language": "python",
   "name": "python3"
  },
  "language_info": {
   "codemirror_mode": {
    "name": "ipython",
    "version": 3
   },
   "file_extension": ".py",
   "mimetype": "text/x-python",
   "name": "python",
   "nbconvert_exporter": "python",
   "pygments_lexer": "ipython3",
   "version": "3.6.4"
  }
 },
 "nbformat": 4,
 "nbformat_minor": 2
}
